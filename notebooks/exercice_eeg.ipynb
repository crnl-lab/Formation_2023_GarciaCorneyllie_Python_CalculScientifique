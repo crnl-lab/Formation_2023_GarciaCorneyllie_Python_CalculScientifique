{
 "cells": [
  {
   "cell_type": "markdown",
   "metadata": {},
   "source": [
    "# Exercie sur dataset EEG \n",
    "\n",
    "1h30\n",
    "\n",
    "Approche simple d'un dataset EEG en 4 étapes:\n",
    "\n",
    "  * Ouvrir un fichier : signaux/triggers\n",
    "  * filtrer les signaux\n",
    "  * se créer un viewer\n",
    "\n",
    "  * faire des ERP : moyenne des signaux autour des triggers (évenements) en fonction des labels du trigger\n",
    "\n",
    "\n"
   ]
  },
  {
   "cell_type": "markdown",
   "metadata": {},
   "source": [
    "# Etape 1: lecture des datas\n",
    "\n",
    "  * Installer un module python qui commence par **n**  et qui finit par **o**\n",
    "  * Ouvrir le fichier **File_micromed_1.TRC** acquis via un système micromed.\n",
    "  * Avec matplotlib afficher vite fait quelques channels sur quelques secondes + triggers\n",
    "  \n",
    "\n"
   ]
  },
  {
   "cell_type": "markdown",
   "metadata": {},
   "source": [
    "# Solution étape 1"
   ]
  },
  {
   "cell_type": "code",
   "execution_count": null,
   "metadata": {},
   "outputs": [],
   "source": []
  },
  {
   "cell_type": "code",
   "execution_count": null,
   "metadata": {},
   "outputs": [],
   "source": []
  },
  {
   "cell_type": "code",
   "execution_count": null,
   "metadata": {},
   "outputs": [],
   "source": []
  },
  {
   "cell_type": "code",
   "execution_count": null,
   "metadata": {},
   "outputs": [],
   "source": []
  },
  {
   "cell_type": "markdown",
   "metadata": {},
   "source": [
    "# Etape 2: scpetre et filtrage des signaux\n",
    "\n",
    "Il y a un comme d'hab du 50Hz.\n",
    "\n",
    "Avec scipy.signal:\n",
    "\n",
    "  * afficher les spectres\n",
    "  * filtrer les siganux entre 0.5 - 49 Hz\n",
    "  \n",
    "Tips:\n",
    " \n",
    "   * Attention scipy.signal.filtfilt plutôt que lfilter\n",
    "   "
   ]
  },
  {
   "cell_type": "markdown",
   "metadata": {},
   "source": [
    "# solution étape 2"
   ]
  },
  {
   "cell_type": "code",
   "execution_count": null,
   "metadata": {},
   "outputs": [],
   "source": []
  },
  {
   "cell_type": "code",
   "execution_count": null,
   "metadata": {},
   "outputs": [],
   "source": []
  },
  {
   "cell_type": "markdown",
   "metadata": {},
   "source": [
    "# Etape 3: créer un *viewer custum*\n",
    "\n",
    "  * avec ephyviewer se créer un viewer pour se balader dans les signaux avec:\n",
    "    * les signaux\n",
    "    * les signaux filtrés\n",
    "    * les cartes temps fréquences\n",
    "    * les triggers en liste\n"
   ]
  },
  {
   "cell_type": "markdown",
   "metadata": {},
   "source": [
    "# Solution"
   ]
  },
  {
   "cell_type": "code",
   "execution_count": null,
   "metadata": {},
   "outputs": [],
   "source": []
  },
  {
   "cell_type": "markdown",
   "metadata": {},
   "source": [
    "# Etape 4 : moyenne des ERP par condition\n",
    "\n",
    "Pour les channels [0,15,20,22] à partir des signaux filtrés:\n",
    "\n",
    "  * empiler les ERP dans une fenêtre -200ms, 1000ms, pour les trois premiers triggers\n",
    "  * faire la moyenne\n"
   ]
  },
  {
   "cell_type": "code",
   "execution_count": null,
   "metadata": {},
   "outputs": [],
   "source": [
    "\n",
    "\n"
   ]
  },
  {
   "cell_type": "markdown",
   "metadata": {},
   "source": [
    "# Mais en VRAI, utilisez Python MNE pour faire de l'EEG !"
   ]
  },
  {
   "cell_type": "markdown",
   "metadata": {},
   "source": [
    "https://martinos.org/mne/stable/index.html\n",
    "+\n",
    "lien Neo-MNE en cours \n",
    "https://gist.github.com/agramfort/7fc27a18fcdc0e8cff3f\n",
    "..."
   ]
  }
 ],
 "metadata": {
  "kernelspec": {
   "display_name": "Python 3 (ipykernel)",
   "language": "python",
   "name": "python3"
  },
  "language_info": {
   "codemirror_mode": {
    "name": "ipython",
    "version": 3
   },
   "file_extension": ".py",
   "mimetype": "text/x-python",
   "name": "python",
   "nbconvert_exporter": "python",
   "pygments_lexer": "ipython3",
   "version": "3.10.6"
  }
 },
 "nbformat": 4,
 "nbformat_minor": 2
}
