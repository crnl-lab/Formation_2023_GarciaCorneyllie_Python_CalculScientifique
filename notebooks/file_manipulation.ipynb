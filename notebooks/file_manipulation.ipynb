{
 "cells": [
  {
   "cell_type": "markdown",
   "metadata": {},
   "source": [
    "\n",
    "# Manipulation de fichiers\n"
   ]
  },
  {
   "cell_type": "markdown",
   "metadata": {},
   "source": [
    "# open\n",
    "\n",
    "Le mode est donné sous la forme d'une chaîne de caractères. Voici les principaux modes :\n",
    "\n",
    "    'r' : ouverture en lecture (Read).\n",
    "\n",
    "    'w' : ouverture en écriture (Write). Le contenu du fichier est écrasé. Si le fichier n'existe pas, il est créé.\n",
    "\n",
    "    'a' : ouverture en écriture en mode ajout (Append). On écrit à la fin du fichier sans écraser l'ancien contenu du fichier. Si le fichier n'existe pas, il est créé.\n",
    "    "
   ]
  },
  {
   "cell_type": "code",
   "execution_count": 1,
   "metadata": {},
   "outputs": [
    {
     "data": {
      "text/plain": [
       "3"
      ]
     },
     "execution_count": 1,
     "metadata": {},
     "output_type": "execute_result"
    }
   ],
   "source": [
    "f = open(\"toto.txt\",mode='w')\n",
    "f.write('yep')"
   ]
  },
  {
   "cell_type": "markdown",
   "metadata": {},
   "source": [
    "# close\n",
    "\n",
    "Lorsque l'on a fini de manipuler un fichier ouvert, il est normalement necessaire de le fermer, pour liberer les ressources liées à ce fichier"
   ]
  },
  {
   "cell_type": "code",
   "execution_count": 2,
   "metadata": {},
   "outputs": [],
   "source": [
    "f.close()"
   ]
  },
  {
   "cell_type": "markdown",
   "metadata": {},
   "source": [
    "# with"
   ]
  },
  {
   "cell_type": "markdown",
   "metadata": {},
   "source": [
    "La \"vraie\" maniere de faire consiste a utiliser le mot-clé \"with\". Ceci evite d'avoir à fermer explicitement le fichier avec close"
   ]
  },
  {
   "cell_type": "code",
   "execution_count": 3,
   "metadata": {},
   "outputs": [
    {
     "name": "stdout",
     "output_type": "stream",
     "text": [
      "False\n",
      "True\n"
     ]
    }
   ],
   "source": [
    "with open(\"toto.txt\",'r') as f:  # le fichier existe à l'avance sinon error\n",
    "    print(f.closed) ## closed (et pas 'close') est un marqueur booleen indiquant si le fichier est ouvert ou fermé\n",
    "print(f.closed)\n"
   ]
  },
  {
   "cell_type": "markdown",
   "metadata": {},
   "source": [
    "# read"
   ]
  },
  {
   "cell_type": "code",
   "execution_count": 4,
   "metadata": {},
   "outputs": [
    {
     "name": "stdout",
     "output_type": "stream",
     "text": [
      "val :  yep\n"
     ]
    }
   ],
   "source": [
    "### je veux voir le contenu de mon fichier\n",
    "with open(\"toto.txt\",'r') as f:\n",
    "    val = f.read() \n",
    "print('val : ', val)"
   ]
  },
  {
   "cell_type": "markdown",
   "metadata": {},
   "source": [
    "tout le contenu du fichier est lu d'un coup"
   ]
  },
  {
   "cell_type": "markdown",
   "metadata": {},
   "source": [
    "# readlines"
   ]
  },
  {
   "cell_type": "code",
   "execution_count": 5,
   "metadata": {},
   "outputs": [],
   "source": [
    "# let write a multi line\n",
    "txt = \"\"\"yep\n",
    "yop\n",
    "yip\n",
    "\"\"\"\n",
    "with open(\"toto2.txt\",'w') as f:\n",
    "    f.write(txt)"
   ]
  },
  {
   "cell_type": "code",
   "execution_count": 6,
   "metadata": {},
   "outputs": [
    {
     "name": "stdout",
     "output_type": "stream",
     "text": [
      "['yep\\n', 'yop\\n', 'yip\\n']\n"
     ]
    }
   ],
   "source": [
    "### je veux voir le contenu de mon fichier ligne par ligne\n",
    "f = open(\"toto2.txt\",'r')\n",
    "lines = f.readlines()\n",
    "f.close()\n",
    "print(lines)"
   ]
  },
  {
   "cell_type": "markdown",
   "metadata": {},
   "source": [
    "# Lecture string/bytes et importance de l'encoding (UTF-8)\n"
   ]
  },
  {
   "cell_type": "code",
   "execution_count": 7,
   "metadata": {},
   "outputs": [
    {
     "name": "stdout",
     "output_type": "stream",
     "text": [
      "b\"Ceci est une chaine d'octets\"\n",
      "<class 'bytes'>\n",
      "115\n",
      "Ceci est une chaine de caractères particuliers 你好 صباح الخير\n",
      "<class 'str'>\n",
      "ر\n"
     ]
    }
   ],
   "source": [
    "chaine1 = b\"Ceci est une chaine d'octets\"\n",
    "\n",
    "print(chaine1)\n",
    "print(type(chaine1))\n",
    "print(chaine1[-1])\n",
    "\n",
    "chaine2 = \"Ceci est une chaine de caractères particuliers 你好 صباح الخير\"\n",
    "\n",
    "print(chaine2)\n",
    "print(type(chaine2))\n",
    "print(chaine2[-1])\n"
   ]
  },
  {
   "cell_type": "code",
   "execution_count": 8,
   "metadata": {},
   "outputs": [],
   "source": [
    "# lets put this 2 object in the same file\n",
    "with open(\"chaine.txt\",'wb') as f:\n",
    "    f.write(chaine1)\n",
    "\n",
    "with open(\"chaine.txt\",'a') as f:\n",
    "    f.write('\\n')\n",
    "    f.write(chaine2)"
   ]
  },
  {
   "cell_type": "code",
   "execution_count": 9,
   "metadata": {},
   "outputs": [
    {
     "name": "stdout",
     "output_type": "stream",
     "text": [
      "Ceci est une chaine d'octets\n",
      "Ceci est une chaine de caractères particuliers 你好 صباح الخير <class 'str'> 89\n"
     ]
    }
   ],
   "source": [
    "with open('chaine.txt', mode= 'r', encoding='utf8') as f:\n",
    "    txt = f.read()\n",
    "print(txt, type(txt), len(txt))"
   ]
  },
  {
   "cell_type": "code",
   "execution_count": 10,
   "metadata": {},
   "outputs": [
    {
     "name": "stdout",
     "output_type": "stream",
     "text": [
      "b\"Ceci est une chaine d'octets\\nCeci est une chaine de caract\\xc3\\xa8res particuliers \\xe4\\xbd\\xa0\\xe5\\xa5\\xbd \\xd8\\xb5\\xd8\\xa8\\xd8\\xa7\\xd8\\xad \\xd8\\xa7\\xd9\\x84\\xd8\\xae\\xd9\\x8a\\xd8\\xb1\" <class 'bytes'> 103\n"
     ]
    }
   ],
   "source": [
    "with open('chaine.txt', mode='rb') as f:\n",
    "    b = f.read()\n",
    "print(b, type(b), len(b))"
   ]
  },
  {
   "cell_type": "code",
   "execution_count": 11,
   "metadata": {},
   "outputs": [
    {
     "name": "stdout",
     "output_type": "stream",
     "text": [
      "Ceci est une chaine d'octets\n",
      "Ceci est une chaine de caractères particuliers 你好 صباح الخير <class 'str'>\n"
     ]
    }
   ],
   "source": [
    "txt2 = b.decode('utf8')\n",
    "print(txt2, type(txt2))"
   ]
  },
  {
   "cell_type": "markdown",
   "metadata": {},
   "source": [
    "# Sauvegarde et lecture avec numpy : format texte\n"
   ]
  },
  {
   "cell_type": "markdown",
   "metadata": {},
   "source": [
    "## loadtxt "
   ]
  },
  {
   "cell_type": "code",
   "execution_count": 12,
   "metadata": {},
   "outputs": [
    {
     "name": "stdout",
     "output_type": "stream",
     "text": [
      "[[-12.  56.   4.]\n",
      " [  6.  50.  12.]\n",
      " [  8.  36.   2.]\n",
      " [ 24.  24. -18.]\n",
      " [-12.  22.  28.]\n",
      " [-12.  22.  26.]\n",
      " [-32.  20. -18.]\n",
      " [-28.  16.  32.]\n",
      " [-48.  14.   8.]\n",
      " [-10.  10.  44.]\n",
      " [-34.   8.  38.]\n",
      " [  4.   6.  50.]\n",
      " [  4.   6.  50.]\n",
      " [ 10.   4.  74.]\n",
      " [ -2.   4.  44.]\n",
      " [ 24.   4. -10.]\n",
      " [ 24.   4. -16.]\n",
      " [ 40.   2.  62.]\n",
      " [-54.   2.  38.]\n",
      " [-26.  -4.  70.]]\n"
     ]
    }
   ],
   "source": [
    "import numpy as np\n",
    "\n",
    "data = np.loadtxt('./data/Coords.txt') \n",
    "print (data)\n"
   ]
  },
  {
   "cell_type": "markdown",
   "metadata": {},
   "source": [
    "## savetxt"
   ]
  },
  {
   "cell_type": "code",
   "execution_count": 13,
   "metadata": {},
   "outputs": [
    {
     "name": "stdout",
     "output_type": "stream",
     "text": [
      "[[0. 0. 0. ... 0. 0. 0.]\n",
      " [0. 0. 0. ... 0. 0. 0.]\n",
      " [0. 0. 0. ... 0. 0. 0.]\n",
      " ...\n",
      " [0. 0. 0. ... 0. 0. 0.]\n",
      " [0. 0. 0. ... 0. 0. 0.]\n",
      " [0. 0. 0. ... 0. 0. 0.]]\n"
     ]
    }
   ],
   "source": [
    "data = np.zeros(shape = (1000,1000), dtype = \"float32\")\n",
    "print(data)"
   ]
  },
  {
   "cell_type": "code",
   "execution_count": 14,
   "metadata": {
    "tags": []
   },
   "outputs": [],
   "source": [
    "np.savetxt(\"data.txt\", data, fmt = \"%f\")"
   ]
  },
  {
   "cell_type": "markdown",
   "metadata": {},
   "source": [
    "# Sauvegarde et lecture avec numpy : format .npy, load et save"
   ]
  },
  {
   "cell_type": "code",
   "execution_count": 15,
   "metadata": {},
   "outputs": [],
   "source": [
    "np.save(\"data.npy\", data)"
   ]
  },
  {
   "cell_type": "code",
   "execution_count": 16,
   "metadata": {},
   "outputs": [
    {
     "data": {
      "text/plain": [
       "array([[0., 0., 0., ..., 0., 0., 0.],\n",
       "       [0., 0., 0., ..., 0., 0., 0.],\n",
       "       [0., 0., 0., ..., 0., 0., 0.],\n",
       "       ...,\n",
       "       [0., 0., 0., ..., 0., 0., 0.],\n",
       "       [0., 0., 0., ..., 0., 0., 0.],\n",
       "       [0., 0., 0., ..., 0., 0., 0.]], dtype=float32)"
      ]
     },
     "execution_count": 16,
     "metadata": {},
     "output_type": "execute_result"
    }
   ],
   "source": [
    "data2 = np.load(\"data.npy\")\n",
    "data2"
   ]
  },
  {
   "cell_type": "markdown",
   "metadata": {},
   "source": [
    "# Concept d'Arborescence"
   ]
  },
  {
   "cell_type": "markdown",
   "metadata": {},
   "source": [
    "![Image](./img/mac_tree.png)     ![Image](./img/win_tree.jpg)    ![Image](./img/linux-tree.png)"
   ]
  },
  {
   "cell_type": "markdown",
   "metadata": {},
   "source": [
    "Racine :\n",
    "\n",
    "    mac et linux : /\n",
    "    \n",
    "    windows : C:\\\n",
    "            \n"
   ]
  },
  {
   "cell_type": "markdown",
   "metadata": {},
   "source": [
    "Chemin absolu :\n",
    "    \n",
    "    linux : /home/alex/projets/formation_python/\n",
    "    \n",
    "    windows : C:\\\\Users\\\\alex\\\\projets\\\\formation_python\\\\   (double\\ car caractère d'échapement)\n",
    "    \n",
    "    mac : /Disque dur/Users/alex/projets/formation_python/"
   ]
  },
  {
   "cell_type": "markdown",
   "metadata": {},
   "source": [
    "Chemin relatif :\n",
    "\n",
    "    ./          là ou je suis actuellement\n",
    "    ../       je remonte d'un dossier par rapport à là ou je suis\n",
    "    \n",
    "    idem windows mais avec \\\n",
    "    \n",
    "    \n",
    "    exemple : np.loadtxt('./data/Coords.txt') \n",
    "    \n",
    "    "
   ]
  },
  {
   "cell_type": "markdown",
   "metadata": {},
   "source": [
    "## Le module os (Operating System)\n",
    "\n",
    "\n",
    "\n",
    "### 1 - Prendre de l'information sur le sysème de fichiers\n",
    "\n",
    "+ import os\n",
    "\n",
    "\n",
    "+ os.uname() : infos système\n",
    "\n",
    "\n",
    "+ os.getcwd() : pour obtenir le répertoire en cours\n",
    "\n",
    "\n",
    "+ os.path.abspath(path) : retourne une version absolue du chemin path\n",
    "\n",
    "\n",
    "+ os.path.relpath(path[, start]) : retourne une version relative du chemin path. Par défaut, par rapport au working dir, sinon : spécifier un argument start qui sera le répertoire de base\n",
    "\n",
    "\n",
    "### 2 - Faire des actions sur le système de fichiers\n",
    "\n",
    "+ os.chdir(foldername)  : va dans le répertoire spécifié\n",
    "\n",
    "\n",
    "+ os.mkdir(’mydir’) : crée le répertoire mydir\n",
    "\n",
    "\n",
    "+ os.rename(oldname, newname) : renomme oldname en newname\n",
    "\n",
    "\n",
    "+ os.remove(filename) : efface le fichier filename\n",
    "\n",
    "\n",
    "### 3 - Utilitaires\n",
    "\n",
    "+ os.path.join(morceau1, morceau2) : colle deux morceaux de chemin ensemble  en utilisant les caractères adaptés au système\n",
    "\n",
    "\n",
    "+ os.path.expanduser(\"~\") : retourne le chemin vers le répertoire \"Home\" de l'utilisateur sur la machine\n",
    "\n",
    "\n",
    "+ os.path.split(racine/nomfichier_ou_rep) : permet de séparer la dernière branche de la racine, résultat sous forme de tuple\n",
    "    *ex : (filepath, filename) = os.path.split(\"/Users/admin/Desktop\") \n",
    "    *filename: \"Desktop\"\n",
    "\n",
    "\n",
    "+ os.path.splitext(nomfichier.extension) : sépare le nom de l'extension. Résultat sous forme de tuple\n",
    "\n",
    "\n",
    "+ os.listdir(path) :  prend un nom de chemin et retourne une liste du contenu du répertoire.\n",
    "\n",
    "\n",
    "+ os.path.isfile : pour séparer les fichiers des répertoires. (os.path.isdir existe aussi). isfile prend un nom de chemin et :\n",
    "     *retourne 1 / True si le chemin représente un fichier\n",
    "     *0 / False dans le cas contraire. \n",
    "\n",
    "\n",
    "+ os.walk(top, topdown=True) : à parir de top (repertoire racine), parcourt l'arborescence en descendant si topdown=True, en montant sinon, et renvoie un tuple : (dirpath, dirnames, filenames) qui contient tous les répertoires dirnames rencontrés avec les fichiers filenames qui s'y trouvent\n",
    "\n",
    ">for dossier, sous_dossiers, fichiers in os.walk('/tmp/test'):\n",
    "\n",
    ">        for fichier in fichiers:\n",
    "\n",
    ">            print(os.path.join(dossier, fichier))"
   ]
  },
  {
   "cell_type": "code",
   "execution_count": 17,
   "metadata": {},
   "outputs": [
    {
     "data": {
      "text/plain": [
       "['file_manipulation.ipynb',\n",
       " 'data',\n",
       " 'mafigure.svg',\n",
       " 'loop_index_slice.ipynb',\n",
       " 'matplotlib_base.ipynb',\n",
       " 'data.txt',\n",
       " 'img',\n",
       " 'numpy_indexing.ipynb',\n",
       " 'numpy_advanced.ipynb',\n",
       " 'Base_language.ipynb',\n",
       " 'numpy_base.ipynb',\n",
       " 'scipy_overview.ipynb',\n",
       " 'toto.txt',\n",
       " '.ipynb_checkpoints',\n",
       " 'data.npy',\n",
       " 'toto2.txt',\n",
       " 'Data_exo_final',\n",
       " 'chaine.txt']"
      ]
     },
     "execution_count": 17,
     "metadata": {},
     "output_type": "execute_result"
    }
   ],
   "source": [
    "import os\n",
    "os.listdir('./')"
   ]
  },
  {
   "cell_type": "markdown",
   "metadata": {},
   "source": [
    "## Le module pathlib = nouvelle méthode"
   ]
  },
  {
   "cell_type": "code",
   "execution_count": 18,
   "metadata": {},
   "outputs": [
    {
     "data": {
      "text/plain": [
       "PosixPath('/home/samuel')"
      ]
     },
     "execution_count": 18,
     "metadata": {},
     "output_type": "execute_result"
    }
   ],
   "source": [
    "from pathlib import Path\n",
    "\n",
    "home = Path.home()\n",
    "home\n"
   ]
  },
  {
   "cell_type": "code",
   "execution_count": 19,
   "metadata": {},
   "outputs": [
    {
     "data": {
      "text/plain": [
       "PosixPath('/home/samuel/Documents/Formation_2023_GarciaCorneyllie_Python_CalculScientifique/notebooks')"
      ]
     },
     "execution_count": 19,
     "metadata": {},
     "output_type": "execute_result"
    }
   ],
   "source": [
    "ici = Path('.').absolute()\n",
    "ici"
   ]
  },
  {
   "cell_type": "code",
   "execution_count": 20,
   "metadata": {},
   "outputs": [
    {
     "data": {
      "text/plain": [
       "PosixPath('/home/samuel/Documents')"
      ]
     },
     "execution_count": 20,
     "metadata": {},
     "output_type": "execute_result"
    }
   ],
   "source": [
    "doc = home / 'Documents'\n",
    "doc"
   ]
  },
  {
   "cell_type": "code",
   "execution_count": 21,
   "metadata": {},
   "outputs": [
    {
     "name": "stdout",
     "output_type": "stream",
     "text": [
      "/run\n",
      "/boot\n",
      "/vmlinuz\n",
      "/lib\n",
      "/tmp\n",
      "/home\n",
      "/opt\n",
      "/mnt\n",
      "/lost+found\n",
      "/media\n",
      "/snap\n",
      "/etc\n",
      "/root\n",
      "/usr\n",
      "/sys\n",
      "/initrd.img\n",
      "/dev\n",
      "/srv\n",
      "/bin\n",
      "/data_sorting\n",
      "/initrd.img.old\n",
      "/libx32\n",
      "/cdrom\n",
      "/swapfile\n",
      "/lib32\n",
      "/var\n",
      "/vmlinuz.old\n",
      "/proc\n",
      "/lib64\n",
      "/sbin\n"
     ]
    }
   ],
   "source": [
    "for item in Path('/').iterdir():\n",
    "    print(item)"
   ]
  },
  {
   "cell_type": "code",
   "execution_count": 22,
   "metadata": {},
   "outputs": [
    {
     "name": "stdout",
     "output_type": "stream",
     "text": [
      "True\n",
      "Figure_1\n",
      ".png\n",
      "/home/samuel\n",
      "/home/samuel\n",
      "/home\n",
      "/\n"
     ]
    }
   ],
   "source": [
    "file_path = Path('/home/samuel/Figure_1.png')\n",
    "\n",
    "print(file_path.is_file())\n",
    "\n",
    "print(file_path.stem)\n",
    "print(file_path.suffix)\n",
    "print(file_path.parent)\n",
    "print(file_path.parents[0])\n",
    "print(file_path.parents[1])\n",
    "print(file_path.parents[2])\n",
    "\n"
   ]
  },
  {
   "cell_type": "code",
   "execution_count": 23,
   "metadata": {},
   "outputs": [
    {
     "name": "stdout",
     "output_type": "stream",
     "text": [
      "/home/samuel/Documents/Formation_2023_GarciaCorneyllie_Python_CalculScientifique/notebooks/file_manipulation.ipynb\n",
      "/home/samuel/Documents/Formation_2023_GarciaCorneyllie_Python_CalculScientifique/notebooks/loop_index_slice.ipynb\n",
      "/home/samuel/Documents/Formation_2023_GarciaCorneyllie_Python_CalculScientifique/notebooks/matplotlib_base.ipynb\n",
      "/home/samuel/Documents/Formation_2023_GarciaCorneyllie_Python_CalculScientifique/notebooks/numpy_indexing.ipynb\n",
      "/home/samuel/Documents/Formation_2023_GarciaCorneyllie_Python_CalculScientifique/notebooks/numpy_advanced.ipynb\n",
      "/home/samuel/Documents/Formation_2023_GarciaCorneyllie_Python_CalculScientifique/notebooks/Base_language.ipynb\n",
      "/home/samuel/Documents/Formation_2023_GarciaCorneyllie_Python_CalculScientifique/notebooks/numpy_base.ipynb\n",
      "/home/samuel/Documents/Formation_2023_GarciaCorneyllie_Python_CalculScientifique/notebooks/scipy_overview.ipynb\n"
     ]
    }
   ],
   "source": [
    "ici = Path('.').absolute()\n",
    "\n",
    "for file in ici.glob('*.ipynb'):\n",
    "    print(file)"
   ]
  },
  {
   "cell_type": "code",
   "execution_count": 24,
   "metadata": {},
   "outputs": [
    {
     "name": "stdout",
     "output_type": "stream",
     "text": [
      "/home/samuel/Bureau/spikeinterface-motion-estimation.ipynb\n",
      "/home/samuel/Bureau/drift_estimate_nx32.ipynb\n",
      "/home/samuel/Bureau/work_with_neuropixels.ipynb\n",
      "/home/samuel/Bureau/fitting.ipynb\n",
      "/home/samuel/Bureau/drift_estimate_np128.ipynb\n",
      "/home/samuel/Bureau/generate_np128_nonrigid_drift.ipynb\n",
      "/home/samuel/Bureau/motion-estimation-thomas-rigid.ipynb\n",
      "/home/samuel/Bureau/spikeinterface_motion_estimation.ipynb\n",
      "/home/samuel/Bureau/generate_nx32_nonrigid_drift.ipynb\n",
      "/home/samuel/Bureau/motion-estimation-thomas-non-rigid.ipynb\n",
      "/home/samuel/Bureau/demo_si_micmac/demo_spikeinterface.ipynb\n",
      "/home/samuel/Bureau/demo_si_micmac/study_noise_across patient.ipynb\n"
     ]
    }
   ],
   "source": [
    "# recursif\n",
    "for file in Path('/home/samuel/Bureau').glob('**/*.ipynb'):\n",
    "    print(file)\n"
   ]
  },
  {
   "cell_type": "markdown",
   "metadata": {},
   "source": [
    "## exercice 1\n",
    "\n",
    "Faire un script pour explorer le dossier 'data/data_folder'\n",
    "\n",
    "Lire les datas dans une structure hierachique adaptée (dict/list/array)\n",
    "\n"
   ]
  },
  {
   "cell_type": "markdown",
   "metadata": {},
   "source": [
    "## solution 1"
   ]
  },
  {
   "cell_type": "code",
   "execution_count": null,
   "metadata": {},
   "outputs": [],
   "source": []
  },
  {
   "cell_type": "code",
   "execution_count": null,
   "metadata": {},
   "outputs": [],
   "source": []
  },
  {
   "cell_type": "code",
   "execution_count": null,
   "metadata": {},
   "outputs": [],
   "source": []
  }
 ],
 "metadata": {
  "kernelspec": {
   "display_name": "Python 3 (ipykernel)",
   "language": "python",
   "name": "python3"
  },
  "language_info": {
   "codemirror_mode": {
    "name": "ipython",
    "version": 3
   },
   "file_extension": ".py",
   "mimetype": "text/x-python",
   "name": "python",
   "nbconvert_exporter": "python",
   "pygments_lexer": "ipython3",
   "version": "3.10.6"
  }
 },
 "nbformat": 4,
 "nbformat_minor": 4
}
