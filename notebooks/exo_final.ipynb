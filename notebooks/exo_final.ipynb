{
 "cells": [
  {
   "cell_type": "markdown",
   "metadata": {},
   "source": [
    "# EXERCICE FINAL\n",
    "\n",
    "\n",
    "## 1 – Introduction\n",
    "\n",
    "Cet exercice a pour objectif de vous amener à traiter des données issues d’une expérience en Sciences Cognitives à l’aide d’un script Python. \n",
    "\n",
    "Cette expérience cherche à voir s’il existe un biais lié au genre dans notre perception du corps humain. Pour résumer, nous allons chercher à voir si les femmes ont tendance à juger les corps féminins plus gros que les corps masculins, et nous faisons également l’hypothèse que cette tendance serait uniquement féminine. \n",
    "\n",
    "L’idée qui sous-tend ces hypothèses serait que les femmes sont exposées, à travers notamment les medias, à des « role models » très minces et à ce qui est coutume d’appeler la « dictature de la minceur ». Cette pression serait plus forte sur les femmes que sur les hommes. En clair, nous allons voir s’il existe un biais de perception lié au genre qui amènerait plus les femmes à percevoir Beyoncé « grosse » …\n",
    "\n",
    "## 2 - Psychophysique très rapide\n",
    "\n",
    "La question de la relation entre stimulus externe et perception est éminemment subjective, et de nature probabiliste. \n",
    "\n",
    "Ainsi, lorsqu’il s’agit de répondre à la question « avez-vous perçu un flash ? », à intensité lumineuse égale, deux personnes peuvent ne pas répondre de la même manière : l’une peut détecter le flash, l’autre non, et cette différence de réponse ne sera pas la même selon les intensités du flash. Idem, une même personne peut, pour deux flashes identiques, percevoir dans un cas et pas dans un autre. Toute cette relation entre stimulus et perception est le domaine de la psychophysique. \n",
    "\n",
    "Si nous étions des « détecteurs parfaits », nous aurions une réponse perceptive constante dès lors que l’intensité d’un stimulus dépasse ce que l’on appelle le « seuil perceptif ». \n",
    "\n",
    "![alt text](./img/PES_figure.bmp)\n",
    "\n",
    "Le Point d’Equivalence Subjectif est le niveau d’intensité du stimulus qui déclenche 50% de détection de la part du sujet.\n",
    "\n",
    "![alt text](./img/PES_figure2.bmp)\n",
    "\n",
    "Cet exercice a pour but de déterminer les PES chez les participants, homme et femme, lorsqu’ils jugent des silhouettes masculines et féminines, et de les comparer.\n",
    "\n",
    "On attend les résultats suivants (hypothèses non argumentées :-)\n",
    "\n",
    "+ Les PES des femmes sont plus bas que ceux des hommes (effet du facteur « genre du participant »)\n",
    "+ Les silhouettes féminines engendrent un PES plus bas que les silhouettes masculines (effet du facteur « type de silhouette »)\n",
    "+ L’écart silhouettes féminines / masculines est plus important chez les femmes que chez les hommes (interaction entre facteur « genre du participant » et « type de silhouette »)\n"
   ]
  },
  {
   "cell_type": "markdown",
   "metadata": {},
   "source": [
    "# Traitement des données\n",
    "\n",
    "L'analyse va se dérouler en 5 étapes.\n",
    "\n",
    "Il est évident que l'on va mettre en pratique, la totalité des outils de la semaine.\n",
    "\n",
    "Voici un guide pour les étapes.\n",
    "\n",
    "Les datas se trouve dans le zip **Data_exo_final.zip** sur github.\n",
    "\n",
    "# Etape 1: moissonage des données\n",
    "\n",
    "Conseils:\n",
    "  * Inspecter bien le zip et ses fichiers.\n",
    "  * Construire un grand DataFrame avec la totalité des données brutes. Nom du tableau = **data**\n",
    "\n",
    "Contraintes:\n",
    "  * On enlève toutes le réponses dont le TR (temps de réponses) est supérieur à 3s.\n",
    "\n",
    "Guide pour les noms de variables et colonnes:\n",
    "  * On garde les noms existant dans les csv\n",
    "  * Il va falloir ajouter/calcluer les colonnes suivantes:\n",
    "    * Subject\n",
    "    * SubjectGender\n",
    "    * ItemGender\n",
    "    * ItemSize\n",
    "\n",
    "Pour les bons:\n",
    "  * reformater les nom des sujets avec 2 chiffres.\n",
    "\n",
    "# Etape 2: calcul des réponses par sujet pour chaque silhouette\n",
    "\n",
    "Conseils:\n",
    "  * Construire un DataFrame intermédiaire qui contabilise le nombre de gros/mince pour chaque sujet et silouette.\n",
    "    Puis la proportion nb_gros/nb_total pour chaque.\n",
    "    Nom du tableau = **evaluations**\n",
    "\n",
    "\n",
    "\n",
    "\n",
    "\n",
    "\n",
    "# Etape3 : Graphe des données individuelles\n",
    "\n",
    "Balladez vous chez seaborn gallery et affichez quelque chose de malins avec le DataFrame **evaluations**\n",
    "\n",
    "Par example, pour chaque sujet et silhouette un truc de ce style:\n",
    "![alt text](img/PES_figure3.bmp)\n",
    "\n",
    "Contraintes:\n",
    "  * en 4 lignes SVP.\n",
    "\n",
    "\n",
    "# Etape 4: Fit de la courbe psychometrique (avec interpolation) et estimation du PES\n",
    "\n",
    "Dans les grands lignes, il faudrait approximer ces données réelles par une courbe psychométrique qui décrit au mieux les observations réelles. Théoriquement il faudrait utilser un Modèle Linéaire Général (GLM) avec un regression binomial.\n",
    "A méditer: https://fr.wikipedia.org/wiki/R%C3%A9gression_logistique\n",
    "\n",
    "Mais pour gagner du temps, on va utilser une interpolation pour fitter la courbe psychometrique.\n",
    "\n",
    "Le PES est le « x_model » qui correspond à un « y_model » de 0.5. (50% de réponses « mince »). Nous allons donc tâcher de déterminer ce x_model.\n",
    "Dans un premier temps, essayez d’en faire une lecture sur le graphe p.\n",
    "Ensuite, nous allons déterminer le x_model qui amène la réponse la plus proche possible de 0.5. Ce ne sera pas 0.5 précisément, mais, pour ne pas trop compliquer les choses, nous nous contenterons de cette approximation.\n",
    "\n",
    "A faire:\n",
    "  * utilisez la fonction argmin pour chercher le point y_model le plus proche de 0.5 : Y_model_proche_de_0.5\n",
    "  * pour ca, vous aurez besoin de la valeur absolue de la différence à 0.5\n",
    "  * le x_model qui correspond à cet y_model_proche_de_0.5 : C’est le PES !\n",
    "    (vérifiez qu’il correspond bien à l’estimation graphique que vous en avez faite)\n",
    "\n",
    "Contrainte:\n",
    "  * Mettre toutes les **pes** dans un DataFrame **all_pes **\n",
    "  * Bien organiser ce tableau.\n",
    " \n",
    "\n",
    "# Etape 5 : analyse de groupe\n",
    "\n",
    "A partir du tableau **all_pes**:\n",
    "\n",
    "  * Faire la moyenne des PES en fonction du genre des participants. Représenter graphiquement ce résultat.\n",
    "  * Faire la moyenne des PES en fonction du type de silhouette. Représenter graphiquement ce résultat.\n",
    "  * Faire la moyenne des PES en fonction du type de silhouette et du genre du participant. Représenter graphiquement ce résultat.\n",
    "  * Faire un model a partir du dernier  résultats.\n",
    "\n",
    "\n"
   ]
  },
  {
   "cell_type": "markdown",
   "metadata": {},
   "source": [
    "# Etape 1: lire les fichiers\n",
    "\n",
    "  1. On extrait le zip là où il est. Soit à la main. Soit mieux sous python.\n",
    "  2. On parcours l'arborescence avec glob\n",
    "  3. On lit avec pandas.read_csv\n",
    "  4. On empile dans une liste\n",
    "  5. On concat le tout."
   ]
  },
  {
   "cell_type": "code",
   "execution_count": 1,
   "metadata": {},
   "outputs": [],
   "source": [
    "%matplotlib inline\n",
    "import pandas as pd\n",
    "import numpy as np\n",
    "import matplotlib.pyplot as plt\n",
    "import seaborn as sns\n"
   ]
  },
  {
   "cell_type": "code",
   "execution_count": null,
   "metadata": {},
   "outputs": [],
   "source": []
  },
  {
   "cell_type": "code",
   "execution_count": null,
   "metadata": {},
   "outputs": [],
   "source": []
  },
  {
   "cell_type": "code",
   "execution_count": null,
   "metadata": {},
   "outputs": [],
   "source": []
  },
  {
   "cell_type": "code",
   "execution_count": null,
   "metadata": {},
   "outputs": [],
   "source": []
  },
  {
   "cell_type": "markdown",
   "metadata": {},
   "source": [
    "# Etape 2: calcul des reponses par Sujet/Item"
   ]
  },
  {
   "cell_type": "code",
   "execution_count": null,
   "metadata": {},
   "outputs": [],
   "source": []
  },
  {
   "cell_type": "code",
   "execution_count": null,
   "metadata": {},
   "outputs": [],
   "source": []
  },
  {
   "cell_type": "code",
   "execution_count": null,
   "metadata": {},
   "outputs": [],
   "source": []
  },
  {
   "cell_type": "code",
   "execution_count": null,
   "metadata": {},
   "outputs": [],
   "source": []
  },
  {
   "cell_type": "markdown",
   "metadata": {},
   "source": [
    "# Etape 3: Affichage avec seaborn"
   ]
  },
  {
   "cell_type": "code",
   "execution_count": null,
   "metadata": {},
   "outputs": [],
   "source": []
  },
  {
   "cell_type": "markdown",
   "metadata": {},
   "source": [
    "# Etape 4: fit des data pour trouver le PES"
   ]
  },
  {
   "cell_type": "code",
   "execution_count": null,
   "metadata": {},
   "outputs": [],
   "source": []
  },
  {
   "cell_type": "code",
   "execution_count": null,
   "metadata": {},
   "outputs": [],
   "source": []
  },
  {
   "cell_type": "code",
   "execution_count": null,
   "metadata": {},
   "outputs": [],
   "source": []
  },
  {
   "cell_type": "markdown",
   "metadata": {},
   "source": [
    "# Etape5"
   ]
  },
  {
   "cell_type": "code",
   "execution_count": null,
   "metadata": {},
   "outputs": [],
   "source": []
  },
  {
   "cell_type": "code",
   "execution_count": null,
   "metadata": {},
   "outputs": [],
   "source": []
  },
  {
   "cell_type": "code",
   "execution_count": null,
   "metadata": {},
   "outputs": [],
   "source": []
  },
  {
   "cell_type": "code",
   "execution_count": null,
   "metadata": {},
   "outputs": [],
   "source": []
  },
  {
   "cell_type": "code",
   "execution_count": null,
   "metadata": {},
   "outputs": [],
   "source": []
  },
  {
   "cell_type": "code",
   "execution_count": null,
   "metadata": {},
   "outputs": [],
   "source": []
  },
  {
   "cell_type": "code",
   "execution_count": null,
   "metadata": {},
   "outputs": [],
   "source": []
  },
  {
   "cell_type": "code",
   "execution_count": null,
   "metadata": {},
   "outputs": [],
   "source": []
  },
  {
   "cell_type": "code",
   "execution_count": null,
   "metadata": {
    "tags": []
   },
   "outputs": [],
   "source": []
  }
 ],
 "metadata": {
  "kernelspec": {
   "display_name": "Python 3 (ipykernel)",
   "language": "python",
   "name": "python3"
  },
  "language_info": {
   "codemirror_mode": {
    "name": "ipython",
    "version": 3
   },
   "file_extension": ".py",
   "mimetype": "text/x-python",
   "name": "python",
   "nbconvert_exporter": "python",
   "pygments_lexer": "ipython3",
   "version": "3.10.6"
  }
 },
 "nbformat": 4,
 "nbformat_minor": 4
}
